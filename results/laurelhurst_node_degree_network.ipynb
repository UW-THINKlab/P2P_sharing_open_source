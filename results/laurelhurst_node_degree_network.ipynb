{
 "cells": [
  {
   "cell_type": "markdown",
   "metadata": {},
   "source": [
    "This file generates the social networks under different node degree coefficients. The main purpose is to obtain the network matrix to see how resources are shared through different types of social ties."
   ]
  },
  {
   "cell_type": "code",
   "execution_count": 5,
   "metadata": {},
   "outputs": [],
   "source": [
    "import numpy as np\n",
    "import scipy.sparse as sp\n",
    "import pandas as pd\n",
    "\n",
    "import sys\n",
    "sys.path.append('..')\n",
    "import src"
   ]
  },
  {
   "cell_type": "markdown",
   "metadata": {},
   "source": [
    "We first examine how the quantity of social ties in a community affects community resilience. To explore this aspect, we multiply the node degrees by different scaling factors,\n",
    "namely 0.2, 0.4, ..., and 2.0, and round them to the nearest integer in the social network generation process, while keeping all other steps unchanged."
   ]
  },
  {
   "cell_type": "code",
   "execution_count": 6,
   "metadata": {},
   "outputs": [],
   "source": [
    "PARAMS = {\n",
    "    'community': 'laurelhurst',\n",
    "    'experiment_name': 'node_degree',\n",
    "    # resource types should be the same as the column names in the resource_preference_pmf and resource_inventory_pmf\n",
    "    'resource_types': ['water', 'food', 'meds', 'transp', 'comm',\n",
    "                       'faid', 'warm', 'sani', 'power', 'shelter'], \n",
    "    'tau': 5, # isolation days\n",
    "    'num_scenarios': 100,\n",
    "    'n': 0.78773808, # degree distribution parameter\n",
    "    'p': 0.02559534, # degree distribution parameter\n",
    "    'social_tie': {\n",
    "        'types': ['strong', 'weak'],\n",
    "        'pmf':  [0.41296, 0.58704]\n",
    "    },\n",
    "    'distance_decay_alpha': -1.35, # distance decay parameter\n",
    "    'distances_mat': np.load('../temp/laurelhurst_distance_matrix.npy'), # distance matrix\n",
    "    'sharing_preference_pmf': pd.read_csv('../temp/laurelhurst_share_pref_PMF.csv'), # sharing preference matrix\n",
    "    'sharing_priority': [3, 2, 1], # sharing priorities to [strong tie, weak tie, stranger]\n",
    "    'resource_inventory_pmf': pd.read_csv('../temp/laurelhurst_resource_distr_PMF.csv') # resource inventory distribution\n",
    "}"
   ]
  },
  {
   "cell_type": "code",
   "execution_count": 7,
   "metadata": {},
   "outputs": [],
   "source": [
    "def p2p_single_resource_sharing(n:float, # negative binomial distribution parameter\n",
    "                                p:float, # negative binomial distribution parameter\n",
    "                                degree_ratio:float, # degree ratio\n",
    "                                distance_decay_alpha:float, # distance decay parameter\n",
    "                                distance_mat:np.matrix, # distance matrix\n",
    "                                social_tie_pmf:list,\n",
    "                                social_tie_types:list = ['strong', 'weak'],\n",
    "                                seed:int=0):\n",
    "    \"\"\"Step 1: Community-based social network construction\"\"\"\n",
    "    # create a community\n",
    "    community = src.Community()\n",
    "    num_nodes = distance_mat.shape[0]\n",
    "    community.add_nodes_from(range(num_nodes))\n",
    "\n",
    "    # generate social ties\n",
    "    np.random.seed(seed)\n",
    "    degree_list = np.random.negative_binomial(n, p, size=num_nodes)\n",
    "    degree_list = degree_list * degree_ratio\n",
    "    degree_list = degree_list.astype(int)\n",
    "    community.generate_social_ties(degrees=degree_list, \n",
    "                                   distance_matrix=distance_mat, \n",
    "                                   distance_decay_alpha=distance_decay_alpha, \n",
    "                                   seed=seed+1)\n",
    "    community.split_social_ties(types=social_tie_types, \n",
    "                                pmf=social_tie_pmf, \n",
    "                                seed=seed+2)\n",
    "    \n",
    "    strong_tie_matrix = community.get_social_tie_matrix(type='strong')\n",
    "    weak_tie_matrix = community.get_social_tie_matrix(type='weak')\n",
    "\n",
    "    return strong_tie_matrix, weak_tie_matrix"
   ]
  },
  {
   "cell_type": "code",
   "execution_count": 8,
   "metadata": {},
   "outputs": [],
   "source": [
    "# main script for running the status quo model\n",
    "for degree_ratio in [0.0, 0.2, 0.4, 0.6, 0.8, 1.0, 1.2, 1.4, 1.6, 1.8, 2.0]:\n",
    "\n",
    "    for sce in range(PARAMS['num_scenarios']):\n",
    "        \n",
    "        # directory name for saving the results\n",
    "        dir = PARAMS['community'] + '/' + PARAMS['experiment_name'] + '/tau_' + str(PARAMS['tau']) # directory name\n",
    "        # Create a dataframe to store the results\n",
    "        inventory_df = pd.DataFrame(columns=PARAMS['resource_types'])\n",
    "        resource_df = pd.DataFrame(columns=PARAMS['resource_types'])\n",
    "        \n",
    "        # run the model for each resource type\n",
    "        strong_tie_matrix, weak_tie_matrix = p2p_single_resource_sharing(\n",
    "                                                                    n=PARAMS['n'],\n",
    "                                                                    p=PARAMS['p'],\n",
    "                                                                    degree_ratio=degree_ratio,\n",
    "                                                                    social_tie_types = PARAMS['social_tie']['types'],\n",
    "                                                                    social_tie_pmf = PARAMS['social_tie']['pmf'],\n",
    "                                                                    distance_decay_alpha = PARAMS['distance_decay_alpha'],\n",
    "                                                                    distance_mat = PARAMS['distances_mat'],\n",
    "                                                                    seed=sce)\n",
    "        # save sparse matrix\n",
    "        sp.save_npz(dir + '/strong_tie_matrix_degree_{}_sce_{}.npz'.format(degree_ratio, sce), sp.csr_matrix(strong_tie_matrix))\n",
    "        sp.save_npz(dir + '/weak_tie_matrix_degree_{}_sce_{}.npz'.format(degree_ratio, sce), sp.csr_matrix(weak_tie_matrix))"
   ]
  }
 ],
 "metadata": {
  "kernelspec": {
   "display_name": "base",
   "language": "python",
   "name": "python3"
  },
  "language_info": {
   "codemirror_mode": {
    "name": "ipython",
    "version": 3
   },
   "file_extension": ".py",
   "mimetype": "text/x-python",
   "name": "python",
   "nbconvert_exporter": "python",
   "pygments_lexer": "ipython3",
   "version": "3.11.4"
  },
  "orig_nbformat": 4
 },
 "nbformat": 4,
 "nbformat_minor": 2
}
