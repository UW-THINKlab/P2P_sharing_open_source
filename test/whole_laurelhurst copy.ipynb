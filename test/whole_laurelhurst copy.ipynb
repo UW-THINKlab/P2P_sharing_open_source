{
 "cells": [
  {
   "cell_type": "code",
   "execution_count": 1,
   "metadata": {},
   "outputs": [],
   "source": [
    "import numpy as np\n",
    "import networkx as nx\n",
    "import matplotlib.pyplot as plt\n",
    "\n",
    "import sys\n",
    "sys.path.append(\"..\")\n",
    "import src"
   ]
  },
  {
   "cell_type": "code",
   "execution_count": 2,
   "metadata": {},
   "outputs": [
    {
     "name": "stderr",
     "output_type": "stream",
     "text": [
      "/Users/lzy95/Documents/GitHub/Peer-to-peer-community-sharing/test/../src/community.py:171: FutureWarning: adjacency_matrix will return a scipy.sparse array instead of a matrix in Networkx 3.0.\n",
      "  return nx.adjacency_matrix(self).todense()\n"
     ]
    }
   ],
   "source": [
    "# Social network construction\n",
    "distance_matrix = np.load(\"../temp/laurelhurst_distance_matrix.npy\")\n",
    "\n",
    "# create community\n",
    "laurelhurst = src.Community()\n",
    "\n",
    "# add nodes\n",
    "laurelhurst.add_nodes_from(range(distance_matrix.shape[0]))\n",
    "\n",
    "# node resource inventory\n",
    "resource_pmf = np.loadtxt(\"../temp/laurelhurst_transp_resource_distr\")\n",
    "laurelhurst.generate_resource_inventory(amount=[0, 1, 2, 3, 4, 5, 6, 7], pmf=resource_pmf, name='transp', seed=0)\n",
    "\n",
    "# node sharing preference\n",
    "share_preference_pmf = np.loadtxt(\"../temp/laurelhurst_transp_share_pref_distr\")\n",
    "laurelhurst.generate_sharing_preference(recipient=[0, 1, 2, 3], pmf=share_preference_pmf, name='transp_share_preference', seed=10)\n",
    "\n",
    "# add edges\n",
    "degree_list = np.random.negative_binomial(0.78773808, 0.02559534, size=distance_matrix.shape[0])\n",
    "laurelhurst.generate_social_ties(degrees=degree_list, distance_matrix=distance_matrix, distance_decay_alpha=-1.35, seed=20)\n",
    "laurelhurst.split_social_ties(types=[\"strong\", \"weak\"], pmf=[0.4129, 0.5871])\n",
    "\n",
    "# create resource sharing network\n",
    "G = laurelhurst.get_share_network(sharing_preference='transp_share_preference', priority=[3, 2, 1])\n",
    "priority_matrix = laurelhurst.get_share_priority_matrix(sharing_preference='transp_share_preference')"
   ]
  },
  {
   "cell_type": "code",
   "execution_count": 3,
   "metadata": {},
   "outputs": [
    {
     "name": "stdout",
     "output_type": "stream",
     "text": [
      "52100\n",
      "21760\n",
      "30340\n",
      "0.417658349328215\n"
     ]
    }
   ],
   "source": [
    "print(np.sum(laurelhurst.social_tie_matrix()))\n",
    "print(np.sum(laurelhurst.social_tie_matrix(type='strong')))\n",
    "print(np.sum(laurelhurst.social_tie_matrix(type='weak')))\n",
    "print(np.sum(laurelhurst.social_tie_matrix(type='strong')) / np.sum(laurelhurst.social_tie_matrix()))"
   ]
  },
  {
   "cell_type": "code",
   "execution_count": 4,
   "metadata": {},
   "outputs": [
    {
     "data": {
      "text/plain": [
       "1272617"
      ]
     },
     "execution_count": 4,
     "metadata": {},
     "output_type": "execute_result"
    }
   ],
   "source": [
    "len(G.edges())"
   ]
  },
  {
   "cell_type": "code",
   "execution_count": 5,
   "metadata": {},
   "outputs": [
    {
     "data": {
      "text/plain": [
       "3508129"
      ]
     },
     "execution_count": 5,
     "metadata": {},
     "output_type": "execute_result"
    }
   ],
   "source": [
    "distance_matrix.shape[0] ** 2"
   ]
  },
  {
   "cell_type": "code",
   "execution_count": 6,
   "metadata": {},
   "outputs": [
    {
     "data": {
      "text/plain": [
       "0.36295609904125653"
      ]
     },
     "execution_count": 6,
     "metadata": {},
     "output_type": "execute_result"
    }
   ],
   "source": [
    "len(G.edges()) / (distance_matrix.shape[0] * (distance_matrix.shape[0]-1))"
   ]
  },
  {
   "cell_type": "code",
   "execution_count": 7,
   "metadata": {},
   "outputs": [
    {
     "data": {
      "text/plain": [
       "array([0.02371542, 0.18972332, 0.43478261, 0.35177866])"
      ]
     },
     "execution_count": 7,
     "metadata": {},
     "output_type": "execute_result"
    }
   ],
   "source": [
    "share_preference_pmf"
   ]
  },
  {
   "cell_type": "code",
   "execution_count": 8,
   "metadata": {},
   "outputs": [],
   "source": [
    "# Social network construction\n",
    "distance_matrix = np.load(\"../temp/southpark_distance_matrix.npy\")\n",
    "\n",
    "# create community\n",
    "southpark = src.Community()\n",
    "\n",
    "# add nodes\n",
    "southpark.add_nodes_from(range(distance_matrix.shape[0]))\n",
    "\n",
    "# node resource inventory\n",
    "resource_pmf = np.loadtxt(\"../temp/southpark_transp_resource_distr\")\n",
    "southpark.generate_resource_inventory(amount=[0, 1, 2, 3, 4, 5, 6, 7], pmf=resource_pmf, name='transp', seed=0)\n",
    "\n",
    "# node sharing preference\n",
    "share_preference_pmf = np.loadtxt(\"../temp/southpark_transp_share_pref_distr\")\n",
    "southpark.generate_sharing_preference(recipient=[0, 1, 2, 3], pmf=share_preference_pmf, name='transp_share_preference', seed=10)\n",
    "\n",
    "# add edges\n",
    "degree_list = np.random.negative_binomial(0.8266, 0.0669, size=distance_matrix.shape[0])\n",
    "southpark.generate_social_ties(degrees=degree_list, distance_matrix=distance_matrix, distance_decay_alpha=-1.43, seed=20)\n",
    "southpark.split_social_ties(types=[\"strong\", \"weak\"], pmf=[0.298, 0.702])\n",
    "\n",
    "# create resource sharing network\n",
    "G = southpark.get_share_network(sharing_preference='transp_share_preference', priority=[3, 2, 1])\n",
    "priority_matrix = southpark.get_share_priority_matrix(sharing_preference='transp_share_preference')"
   ]
  },
  {
   "cell_type": "code",
   "execution_count": 9,
   "metadata": {},
   "outputs": [
    {
     "name": "stdout",
     "output_type": "stream",
     "text": [
      "13724\n",
      "4186\n",
      "9538\n",
      "0.30501311570970563\n"
     ]
    }
   ],
   "source": [
    "print(np.sum(southpark.social_tie_matrix()))\n",
    "print(np.sum(southpark.social_tie_matrix(type='strong')))\n",
    "print(np.sum(southpark.social_tie_matrix(type='weak')))\n",
    "print(np.sum(southpark.social_tie_matrix(type='strong')) / np.sum(southpark.social_tie_matrix()))"
   ]
  },
  {
   "cell_type": "code",
   "execution_count": 10,
   "metadata": {},
   "outputs": [
    {
     "data": {
      "text/plain": [
       "13724"
      ]
     },
     "execution_count": 10,
     "metadata": {},
     "output_type": "execute_result"
    }
   ],
   "source": [
    "len(southpark.edges()) * 2"
   ]
  },
  {
   "cell_type": "code",
   "execution_count": 11,
   "metadata": {},
   "outputs": [
    {
     "data": {
      "text/plain": [
       "14685"
      ]
     },
     "execution_count": 11,
     "metadata": {},
     "output_type": "execute_result"
    }
   ],
   "source": [
    "np.sum(degree_list)"
   ]
  },
  {
   "cell_type": "code",
   "execution_count": 12,
   "metadata": {},
   "outputs": [
    {
     "data": {
      "text/plain": [
       "701634"
      ]
     },
     "execution_count": 12,
     "metadata": {},
     "output_type": "execute_result"
    }
   ],
   "source": [
    "len(G.edges())"
   ]
  },
  {
   "cell_type": "code",
   "execution_count": 13,
   "metadata": {},
   "outputs": [
    {
     "data": {
      "text/plain": [
       "1901641"
      ]
     },
     "execution_count": 13,
     "metadata": {},
     "output_type": "execute_result"
    }
   ],
   "source": [
    "distance_matrix.shape[0] ** 2"
   ]
  },
  {
   "cell_type": "code",
   "execution_count": 14,
   "metadata": {},
   "outputs": [
    {
     "data": {
      "text/plain": [
       "array([0.04102564, 0.27692308, 0.31282051, 0.36923077])"
      ]
     },
     "execution_count": 14,
     "metadata": {},
     "output_type": "execute_result"
    }
   ],
   "source": [
    "share_preference_pmf"
   ]
  },
  {
   "cell_type": "code",
   "execution_count": 15,
   "metadata": {},
   "outputs": [
    {
     "data": {
      "text/plain": [
       "0.3692301377389013"
      ]
     },
     "execution_count": 15,
     "metadata": {},
     "output_type": "execute_result"
    }
   ],
   "source": [
    "len(G.edges()) / (distance_matrix.shape[0] * (distance_matrix.shape[0]-1))"
   ]
  },
  {
   "cell_type": "code",
   "execution_count": 16,
   "metadata": {},
   "outputs": [
    {
     "data": {
      "image/png": "[encoded data removed]",
      "text/plain": [
       "<Figure size 480x480 with 2 Axes>"
      ]
     },
     "metadata": {},
     "output_type": "display_data"
    }
   ],
   "source": [
    "plt.matshow(southpark.social_tie_matrix(), cmap='copper')\n",
    "plt.colorbar()\n",
    "plt.show()"
   ]
  },
  {
   "cell_type": "code",
   "execution_count": 17,
   "metadata": {},
   "outputs": [
    {
     "data": {
      "image/png": "[encoded data removed]",
      "text/plain": [
       "<Figure size 480x480 with 2 Axes>"
      ]
     },
     "metadata": {},
     "output_type": "display_data"
    }
   ],
   "source": [
    "plt.matshow(priority_matrix, cmap='copper')\n",
    "plt.colorbar()\n",
    "plt.show()"
   ]
  }
 ],
 "metadata": {
  "kernelspec": {
   "display_name": "base",
   "language": "python",
   "name": "python3"
  },
  "language_info": {
   "codemirror_mode": {
    "name": "ipython",
    "version": 3
   },
   "file_extension": ".py",
   "mimetype": "text/x-python",
   "name": "python",
   "nbconvert_exporter": "python",
   "pygments_lexer": "ipython3",
   "version": "3.10.9"
  },
  "orig_nbformat": 4
 },
 "nbformat": 4,
 "nbformat_minor": 2
}
