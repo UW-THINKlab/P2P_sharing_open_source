{
 "cells": [
  {
   "cell_type": "code",
   "execution_count": 1,
   "metadata": {},
   "outputs": [],
   "source": [
    "import numpy as np\n",
    "import sys\n",
    "sys.path.append(\"..\")\n",
    "import src.resource_sharing_model as rsm"
   ]
  },
  {
   "cell_type": "code",
   "execution_count": 2,
   "metadata": {},
   "outputs": [
    {
     "name": "stdout",
     "output_type": "stream",
     "text": [
      "Set parameter Username\n",
      "Academic license - for non-commercial use only - expires 2024-08-31\n",
      "Gurobi Optimizer version 10.0.2 build v10.0.2rc0 (win64)\n",
      "\n",
      "CPU model: Intel(R) Core(TM) i7-10700 CPU @ 2.90GHz, instruction set [SSE2|AVX|AVX2]\n",
      "Thread count: 8 physical cores, 16 logical processors, using up to 16 threads\n",
      "\n",
      "Optimize a model with 3800 rows, 3610000 columns and 7220000 nonzeros\n",
      "Model fingerprint: 0xb227167a\n",
      "Coefficient statistics:\n",
      "  Matrix range     [1e+00, 1e+00]\n",
      "  Objective range  [3e-08, 1e+00]\n",
      "  Bounds range     [0e+00, 0e+00]\n",
      "  RHS range        [1e-03, 7e+00]\n",
      "Presolve removed 1900 rows and 2861164 columns\n",
      "Presolve time: 1.38s\n",
      "Presolved: 1900 rows, 748836 columns, 1497672 nonzeros\n",
      "\n",
      "Concurrent LP optimizer: primal simplex, dual simplex, and barrier\n",
      "Showing barrier log only...\n",
      "\n",
      "Ordering time: 0.01s\n",
      "\n",
      "Barrier statistics:\n",
      " AA' NZ     : 7.488e+05\n",
      " Factor NZ  : 1.806e+06 (roughly 300 MB of memory)\n",
      " Factor Ops : 2.288e+09 (less than 1 second per iteration)\n",
      " Threads    : 6\n",
      "\n",
      "Barrier performed 0 iterations in 1.77 seconds (1.49 work units)\n",
      "Barrier solve interrupted - model solved by another algorithm\n",
      "\n",
      "\n",
      "Solved with dual simplex\n",
      "Iteration    Objective       Primal Inf.    Dual Inf.      Time\n",
      "     324    8.3611585e+02   0.000000e+00   0.000000e+00      2s\n",
      "\n",
      "Solved in 324 iterations and 2.29 seconds (1.90 work units)\n",
      "Optimal objective  8.361158514e+02\n"
     ]
    }
   ],
   "source": [
    "# random seed\n",
    "np.random.seed(0)\n",
    "wts_matrix = np.random.rand(1900, 1900)\n",
    "inventory = np.random.rand(1900, 1) * 10\n",
    "isolation_day = 7\n",
    "model = rsm.ResourceSharingModel(wts_matrix, inventory, isolation_day)\n",
    "model.solve()\n",
    "\n",
    "# The memory usage is too high, so we need to optimize the code."
   ]
  }
 ],
 "metadata": {
  "kernelspec": {
   "display_name": "base",
   "language": "python",
   "name": "python3"
  },
  "language_info": {
   "codemirror_mode": {
    "name": "ipython",
    "version": 3
   },
   "file_extension": ".py",
   "mimetype": "text/x-python",
   "name": "python",
   "nbconvert_exporter": "python",
   "pygments_lexer": "ipython3",
   "version": "3.11.4"
  },
  "orig_nbformat": 4
 },
 "nbformat": 4,
 "nbformat_minor": 2
}
