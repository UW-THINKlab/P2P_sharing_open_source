{
 "cells": [
  {
   "cell_type": "code",
   "execution_count": 1,
   "metadata": {},
   "outputs": [],
   "source": [
    "import numpy as np\n",
    "import sys\n",
    "sys.path.append(\"..\")\n",
    "import src.resource_sharing_model as rsm"
   ]
  },
  {
   "cell_type": "code",
   "execution_count": 2,
   "metadata": {},
   "outputs": [
    {
     "name": "stdout",
     "output_type": "stream",
     "text": [
      "Set parameter Username\n",
      "Academic license - for non-commercial use only - expires 2024-04-25\n",
      "Gurobi Optimizer version 10.0.1 build v10.0.1rc0 (mac64[arm])\n",
      "\n",
      "CPU model: Apple M2 Pro\n",
      "Thread count: 10 physical cores, 10 logical processors, using up to 10 threads\n",
      "\n",
      "Optimize a model with 3800 rows, 3610000 columns and 7220000 nonzeros\n",
      "Model fingerprint: 0xb227167a\n",
      "Coefficient statistics:\n",
      "  Matrix range     [1e+00, 1e+00]\n",
      "  Objective range  [3e-08, 1e+00]\n",
      "  Bounds range     [0e+00, 0e+00]\n",
      "  RHS range        [1e-03, 7e+00]\n",
      "Presolve removed 1900 rows and 2861164 columns\n",
      "Presolve time: 0.64s\n",
      "Presolved: 1900 rows, 748836 columns, 1497672 nonzeros\n",
      "\n",
      "Concurrent LP optimizer: primal simplex, dual simplex, and barrier\n",
      "Showing barrier log only...\n",
      "\n",
      "Ordering time: 0.00s\n",
      "\n",
      "Barrier statistics:\n",
      " AA' NZ     : 7.488e+05\n",
      " Factor NZ  : 1.806e+06 (roughly 300 MB of memory)\n",
      " Factor Ops : 2.288e+09 (less than 1 second per iteration)\n",
      " Threads    : 8\n",
      "\n",
      "Barrier performed 0 iterations in 0.86 seconds (1.49 work units)\n",
      "Barrier solve interrupted - model solved by another algorithm\n",
      "\n",
      "\n",
      "Solved with dual simplex\n",
      "Iteration    Objective       Primal Inf.    Dual Inf.      Time\n",
      "     324    8.3611585e+02   0.000000e+00   0.000000e+00      1s\n",
      "\n",
      "Solved in 324 iterations and 1.19 seconds (1.90 work units)\n",
      "Optimal objective  8.361158514e+02\n"
     ]
    }
   ],
   "source": [
    "# random seed\n",
    "np.random.seed(0)\n",
    "wts_matrix = np.random.rand(1900, 1900)\n",
    "inventory = np.random.rand(1900, 1) * 10\n",
    "isolation_day = 7\n",
    "model = rsm.ResourceSharingModel(wts_matrix, inventory, isolation_day)\n",
    "model.solve()\n",
    "\n",
    "# The memory usage is too high, so we need to optimize the code."
   ]
  }
 ],
 "metadata": {
  "kernelspec": {
   "display_name": "base",
   "language": "python",
   "name": "python3"
  },
  "language_info": {
   "codemirror_mode": {
    "name": "ipython",
    "version": 3
   },
   "file_extension": ".py",
   "mimetype": "text/x-python",
   "name": "python",
   "nbconvert_exporter": "python",
   "pygments_lexer": "ipython3",
   "version": "3.10.9"
  },
  "orig_nbformat": 4
 },
 "nbformat": 4,
 "nbformat_minor": 2
}
