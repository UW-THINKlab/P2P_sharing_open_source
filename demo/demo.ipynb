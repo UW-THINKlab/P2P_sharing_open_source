{
 "cells": [
  {
   "cell_type": "code",
   "execution_count": 1,
   "metadata": {},
   "outputs": [
    {
     "ename": "ModuleNotFoundError",
     "evalue": "No module named 'gurobipy'",
     "output_type": "error",
     "traceback": [
      "\u001b[1;31m---------------------------------------------------------------------------\u001b[0m",
      "\u001b[1;31mModuleNotFoundError\u001b[0m                       Traceback (most recent call last)",
      "\u001b[1;32m~\\AppData\\Local\\Temp\\ipykernel_17188\\494678504.py\u001b[0m in \u001b[0;36m<module>\u001b[1;34m\u001b[0m\n\u001b[0;32m      6\u001b[0m \u001b[1;32mimport\u001b[0m \u001b[0msys\u001b[0m\u001b[1;33m\u001b[0m\u001b[1;33m\u001b[0m\u001b[0m\n\u001b[0;32m      7\u001b[0m \u001b[0msys\u001b[0m\u001b[1;33m.\u001b[0m\u001b[0mpath\u001b[0m\u001b[1;33m.\u001b[0m\u001b[0mappend\u001b[0m\u001b[1;33m(\u001b[0m\u001b[1;34m'..'\u001b[0m\u001b[1;33m)\u001b[0m\u001b[1;33m\u001b[0m\u001b[1;33m\u001b[0m\u001b[0m\n\u001b[1;32m----> 8\u001b[1;33m \u001b[1;32mimport\u001b[0m \u001b[0msrc\u001b[0m\u001b[1;33m\u001b[0m\u001b[1;33m\u001b[0m\u001b[0m\n\u001b[0m",
      "\u001b[1;32mf:\\GitHub\\P2P_sharing_open_source\\demo\\..\\src\\__init__.py\u001b[0m in \u001b[0;36m<module>\u001b[1;34m\u001b[0m\n\u001b[0;32m      2\u001b[0m \u001b[1;32mfrom\u001b[0m \u001b[0msrc\u001b[0m\u001b[1;33m.\u001b[0m\u001b[0mcommunity\u001b[0m \u001b[1;32mimport\u001b[0m \u001b[1;33m*\u001b[0m\u001b[1;33m\u001b[0m\u001b[1;33m\u001b[0m\u001b[0m\n\u001b[0;32m      3\u001b[0m \u001b[1;33m\u001b[0m\u001b[0m\n\u001b[1;32m----> 4\u001b[1;33m \u001b[1;32mfrom\u001b[0m \u001b[0msrc\u001b[0m \u001b[1;32mimport\u001b[0m \u001b[0mresource_sharing_model\u001b[0m\u001b[1;33m\u001b[0m\u001b[1;33m\u001b[0m\u001b[0m\n\u001b[0m\u001b[0;32m      5\u001b[0m \u001b[1;32mfrom\u001b[0m \u001b[0msrc\u001b[0m\u001b[1;33m.\u001b[0m\u001b[0mresource_sharing_model\u001b[0m \u001b[1;32mimport\u001b[0m \u001b[1;33m*\u001b[0m\u001b[1;33m\u001b[0m\u001b[1;33m\u001b[0m\u001b[0m\n\u001b[0;32m      6\u001b[0m \u001b[1;33m\u001b[0m\u001b[0m\n",
      "\u001b[1;32mf:\\GitHub\\P2P_sharing_open_source\\demo\\..\\src\\resource_sharing_model.py\u001b[0m in \u001b[0;36m<module>\u001b[1;34m\u001b[0m\n\u001b[0;32m      5\u001b[0m \u001b[1;33m\u001b[0m\u001b[0m\n\u001b[0;32m      6\u001b[0m \u001b[1;32mimport\u001b[0m \u001b[0mnumpy\u001b[0m \u001b[1;32mas\u001b[0m \u001b[0mnp\u001b[0m\u001b[1;33m\u001b[0m\u001b[1;33m\u001b[0m\u001b[0m\n\u001b[1;32m----> 7\u001b[1;33m \u001b[1;32mimport\u001b[0m \u001b[0mgurobipy\u001b[0m \u001b[1;32mas\u001b[0m \u001b[0mgp\u001b[0m\u001b[1;33m\u001b[0m\u001b[1;33m\u001b[0m\u001b[0m\n\u001b[0m\u001b[0;32m      8\u001b[0m \u001b[1;32mfrom\u001b[0m \u001b[0mgurobipy\u001b[0m \u001b[1;32mimport\u001b[0m \u001b[0mGRB\u001b[0m\u001b[1;33m\u001b[0m\u001b[1;33m\u001b[0m\u001b[0m\n\u001b[0;32m      9\u001b[0m \u001b[1;33m\u001b[0m\u001b[0m\n",
      "\u001b[1;31mModuleNotFoundError\u001b[0m: No module named 'gurobipy'"
     ]
    }
   ],
   "source": [
    "import numpy as np\n",
    "import scipy.sparse as sp\n",
    "import pandas as pd\n",
    "import matplotlib.pyplot as plt\n",
    "\n",
    "import sys\n",
    "sys.path.append('..')\n",
    "import src"
   ]
  },
  {
   "cell_type": "markdown",
   "metadata": {},
   "source": [
    "# Data"
   ]
  },
  {
   "cell_type": "code",
   "execution_count": null,
   "metadata": {},
   "outputs": [],
   "source": [
    "# load data\n",
    "distances_np = np.load('../data/laurelhurst_distance_matrix.npy')\n",
    "sharing_preferences = pd.read_csv('../data/laurelhurst_share_pref_PMF.csv')\n",
    "resource_distribution = pd.read_csv('../data/laurelhurst_resource_distr_PMF.csv')\n",
    "resources = ['water', 'food', 'meds', 'faid', 'warm', 'transp',\t'comm',\t'sani',\t'power', 'shelter']\n",
    "tau = 5 # isolation time"
   ]
  },
  {
   "cell_type": "code",
   "execution_count": null,
   "metadata": {},
   "outputs": [
    {
     "name": "stdout",
     "output_type": "stream",
     "text": [
      "distances_np: (1873, 1873)\n"
     ]
    },
    {
     "data": {
      "text/plain": [
       "array([[       inf, 0.02018493, 0.03532719, 0.05605193, 0.08970906],\n",
       "       [0.02018493,        inf, 0.01613955, 0.03820843, 0.06975363],\n",
       "       [0.03532719, 0.01613955,        inf, 0.02228791, 0.05455244],\n",
       "       [0.05605193, 0.03820843, 0.02228791,        inf, 0.03838896],\n",
       "       [0.08970906, 0.06975363, 0.05455244, 0.03838896,        inf]])"
      ]
     },
     "execution_count": 3,
     "metadata": {},
     "output_type": "execute_result"
    }
   ],
   "source": [
    "print('distances_np:', distances_np.shape)\n",
    "distances_np[:5, :5]"
   ]
  },
  {
   "cell_type": "code",
   "execution_count": null,
   "metadata": {},
   "outputs": [
    {
     "data": {
      "text/html": [
       "<div>\n",
       "<style scoped>\n",
       "    .dataframe tbody tr th:only-of-type {\n",
       "        vertical-align: middle;\n",
       "    }\n",
       "\n",
       "    .dataframe tbody tr th {\n",
       "        vertical-align: top;\n",
       "    }\n",
       "\n",
       "    .dataframe thead th {\n",
       "        text-align: right;\n",
       "    }\n",
       "</style>\n",
       "<table border=\"1\" class=\"dataframe\">\n",
       "  <thead>\n",
       "    <tr style=\"text-align: right;\">\n",
       "      <th></th>\n",
       "      <th>Unnamed: 0</th>\n",
       "      <th>water</th>\n",
       "      <th>food</th>\n",
       "      <th>meds</th>\n",
       "      <th>faid</th>\n",
       "      <th>warm</th>\n",
       "      <th>transp</th>\n",
       "      <th>comm</th>\n",
       "      <th>sani</th>\n",
       "      <th>power</th>\n",
       "      <th>shelter</th>\n",
       "    </tr>\n",
       "  </thead>\n",
       "  <tbody>\n",
       "    <tr>\n",
       "      <th>0</th>\n",
       "      <td>nobody</td>\n",
       "      <td>0.027237</td>\n",
       "      <td>0.015686</td>\n",
       "      <td>0.152610</td>\n",
       "      <td>0.003906</td>\n",
       "      <td>0.003937</td>\n",
       "      <td>0.023715</td>\n",
       "      <td>0.011952</td>\n",
       "      <td>0.043478</td>\n",
       "      <td>0.027668</td>\n",
       "      <td>0.019685</td>\n",
       "    </tr>\n",
       "    <tr>\n",
       "      <th>1</th>\n",
       "      <td>strong ties</td>\n",
       "      <td>0.389105</td>\n",
       "      <td>0.333333</td>\n",
       "      <td>0.281124</td>\n",
       "      <td>0.128906</td>\n",
       "      <td>0.165354</td>\n",
       "      <td>0.189723</td>\n",
       "      <td>0.151394</td>\n",
       "      <td>0.272727</td>\n",
       "      <td>0.328063</td>\n",
       "      <td>0.311024</td>\n",
       "    </tr>\n",
       "    <tr>\n",
       "      <th>2</th>\n",
       "      <td>strong and weak ties</td>\n",
       "      <td>0.307393</td>\n",
       "      <td>0.372549</td>\n",
       "      <td>0.248996</td>\n",
       "      <td>0.246094</td>\n",
       "      <td>0.311024</td>\n",
       "      <td>0.434783</td>\n",
       "      <td>0.322709</td>\n",
       "      <td>0.351779</td>\n",
       "      <td>0.379447</td>\n",
       "      <td>0.409449</td>\n",
       "    </tr>\n",
       "    <tr>\n",
       "      <th>3</th>\n",
       "      <td>anyone</td>\n",
       "      <td>0.276265</td>\n",
       "      <td>0.278431</td>\n",
       "      <td>0.317269</td>\n",
       "      <td>0.621094</td>\n",
       "      <td>0.519685</td>\n",
       "      <td>0.351779</td>\n",
       "      <td>0.513944</td>\n",
       "      <td>0.332016</td>\n",
       "      <td>0.264822</td>\n",
       "      <td>0.259843</td>\n",
       "    </tr>\n",
       "  </tbody>\n",
       "</table>\n",
       "</div>"
      ],
      "text/plain": [
       "             Unnamed: 0     water      food      meds      faid      warm  \\\n",
       "0                nobody  0.027237  0.015686  0.152610  0.003906  0.003937   \n",
       "1           strong ties  0.389105  0.333333  0.281124  0.128906  0.165354   \n",
       "2  strong and weak ties  0.307393  0.372549  0.248996  0.246094  0.311024   \n",
       "3                anyone  0.276265  0.278431  0.317269  0.621094  0.519685   \n",
       "\n",
       "     transp      comm      sani     power   shelter  \n",
       "0  0.023715  0.011952  0.043478  0.027668  0.019685  \n",
       "1  0.189723  0.151394  0.272727  0.328063  0.311024  \n",
       "2  0.434783  0.322709  0.351779  0.379447  0.409449  \n",
       "3  0.351779  0.513944  0.332016  0.264822  0.259843  "
      ]
     },
     "execution_count": 4,
     "metadata": {},
     "output_type": "execute_result"
    }
   ],
   "source": [
    "sharing_preferences"
   ]
  },
  {
   "cell_type": "code",
   "execution_count": null,
   "metadata": {},
   "outputs": [
    {
     "data": {
      "text/html": [
       "<div>\n",
       "<style scoped>\n",
       "    .dataframe tbody tr th:only-of-type {\n",
       "        vertical-align: middle;\n",
       "    }\n",
       "\n",
       "    .dataframe tbody tr th {\n",
       "        vertical-align: top;\n",
       "    }\n",
       "\n",
       "    .dataframe thead th {\n",
       "        text-align: right;\n",
       "    }\n",
       "</style>\n",
       "<table border=\"1\" class=\"dataframe\">\n",
       "  <thead>\n",
       "    <tr style=\"text-align: right;\">\n",
       "      <th></th>\n",
       "      <th>days</th>\n",
       "      <th>water</th>\n",
       "      <th>food</th>\n",
       "      <th>meds</th>\n",
       "      <th>faid</th>\n",
       "      <th>warm</th>\n",
       "      <th>transp</th>\n",
       "      <th>comm</th>\n",
       "      <th>sani</th>\n",
       "      <th>power</th>\n",
       "      <th>shelter</th>\n",
       "    </tr>\n",
       "  </thead>\n",
       "  <tbody>\n",
       "    <tr>\n",
       "      <th>0</th>\n",
       "      <td>0</td>\n",
       "      <td>0.098814</td>\n",
       "      <td>0.011905</td>\n",
       "      <td>0.008299</td>\n",
       "      <td>0.012146</td>\n",
       "      <td>0.000000</td>\n",
       "      <td>0.024390</td>\n",
       "      <td>0.070093</td>\n",
       "      <td>0.134884</td>\n",
       "      <td>0.174797</td>\n",
       "      <td>0.255411</td>\n",
       "    </tr>\n",
       "    <tr>\n",
       "      <th>1</th>\n",
       "      <td>1</td>\n",
       "      <td>0.129117</td>\n",
       "      <td>0.089947</td>\n",
       "      <td>0.012448</td>\n",
       "      <td>0.079622</td>\n",
       "      <td>0.005333</td>\n",
       "      <td>0.030894</td>\n",
       "      <td>0.118380</td>\n",
       "      <td>0.120930</td>\n",
       "      <td>0.132791</td>\n",
       "      <td>0.028860</td>\n",
       "    </tr>\n",
       "    <tr>\n",
       "      <th>2</th>\n",
       "      <td>2</td>\n",
       "      <td>0.129117</td>\n",
       "      <td>0.089947</td>\n",
       "      <td>0.012448</td>\n",
       "      <td>0.079622</td>\n",
       "      <td>0.005333</td>\n",
       "      <td>0.030894</td>\n",
       "      <td>0.118380</td>\n",
       "      <td>0.120930</td>\n",
       "      <td>0.132791</td>\n",
       "      <td>0.028860</td>\n",
       "    </tr>\n",
       "    <tr>\n",
       "      <th>3</th>\n",
       "      <td>3</td>\n",
       "      <td>0.129117</td>\n",
       "      <td>0.089947</td>\n",
       "      <td>0.012448</td>\n",
       "      <td>0.079622</td>\n",
       "      <td>0.005333</td>\n",
       "      <td>0.030894</td>\n",
       "      <td>0.118380</td>\n",
       "      <td>0.120930</td>\n",
       "      <td>0.132791</td>\n",
       "      <td>0.028860</td>\n",
       "    </tr>\n",
       "    <tr>\n",
       "      <th>4</th>\n",
       "      <td>4</td>\n",
       "      <td>0.085639</td>\n",
       "      <td>0.117725</td>\n",
       "      <td>0.026279</td>\n",
       "      <td>0.085020</td>\n",
       "      <td>0.029333</td>\n",
       "      <td>0.074797</td>\n",
       "      <td>0.054517</td>\n",
       "      <td>0.051163</td>\n",
       "      <td>0.071816</td>\n",
       "      <td>0.041847</td>\n",
       "    </tr>\n",
       "    <tr>\n",
       "      <th>5</th>\n",
       "      <td>5</td>\n",
       "      <td>0.085639</td>\n",
       "      <td>0.117725</td>\n",
       "      <td>0.026279</td>\n",
       "      <td>0.085020</td>\n",
       "      <td>0.029333</td>\n",
       "      <td>0.074797</td>\n",
       "      <td>0.054517</td>\n",
       "      <td>0.051163</td>\n",
       "      <td>0.071816</td>\n",
       "      <td>0.041847</td>\n",
       "    </tr>\n",
       "    <tr>\n",
       "      <th>6</th>\n",
       "      <td>6</td>\n",
       "      <td>0.085639</td>\n",
       "      <td>0.117725</td>\n",
       "      <td>0.026279</td>\n",
       "      <td>0.085020</td>\n",
       "      <td>0.029333</td>\n",
       "      <td>0.074797</td>\n",
       "      <td>0.054517</td>\n",
       "      <td>0.051163</td>\n",
       "      <td>0.071816</td>\n",
       "      <td>0.041847</td>\n",
       "    </tr>\n",
       "    <tr>\n",
       "      <th>7</th>\n",
       "      <td>7</td>\n",
       "      <td>0.256917</td>\n",
       "      <td>0.365079</td>\n",
       "      <td>0.875519</td>\n",
       "      <td>0.493927</td>\n",
       "      <td>0.896000</td>\n",
       "      <td>0.658537</td>\n",
       "      <td>0.411215</td>\n",
       "      <td>0.348837</td>\n",
       "      <td>0.211382</td>\n",
       "      <td>0.532468</td>\n",
       "    </tr>\n",
       "  </tbody>\n",
       "</table>\n",
       "</div>"
      ],
      "text/plain": [
       "   days     water      food      meds      faid      warm    transp      comm  \\\n",
       "0     0  0.098814  0.011905  0.008299  0.012146  0.000000  0.024390  0.070093   \n",
       "1     1  0.129117  0.089947  0.012448  0.079622  0.005333  0.030894  0.118380   \n",
       "2     2  0.129117  0.089947  0.012448  0.079622  0.005333  0.030894  0.118380   \n",
       "3     3  0.129117  0.089947  0.012448  0.079622  0.005333  0.030894  0.118380   \n",
       "4     4  0.085639  0.117725  0.026279  0.085020  0.029333  0.074797  0.054517   \n",
       "5     5  0.085639  0.117725  0.026279  0.085020  0.029333  0.074797  0.054517   \n",
       "6     6  0.085639  0.117725  0.026279  0.085020  0.029333  0.074797  0.054517   \n",
       "7     7  0.256917  0.365079  0.875519  0.493927  0.896000  0.658537  0.411215   \n",
       "\n",
       "       sani     power   shelter  \n",
       "0  0.134884  0.174797  0.255411  \n",
       "1  0.120930  0.132791  0.028860  \n",
       "2  0.120930  0.132791  0.028860  \n",
       "3  0.120930  0.132791  0.028860  \n",
       "4  0.051163  0.071816  0.041847  \n",
       "5  0.051163  0.071816  0.041847  \n",
       "6  0.051163  0.071816  0.041847  \n",
       "7  0.348837  0.211382  0.532468  "
      ]
     },
     "execution_count": 5,
     "metadata": {},
     "output_type": "execute_result"
    }
   ],
   "source": [
    "resource_distribution"
   ]
  },
  {
   "cell_type": "markdown",
   "metadata": {},
   "source": [
    "# Place-based Social Network Construction"
   ]
  },
  {
   "cell_type": "code",
   "execution_count": null,
   "metadata": {},
   "outputs": [],
   "source": [
    "# create a community\n",
    "community = src.Community()\n",
    "community.add_nodes_from(range(distances_np.shape[0]))\n",
    "\n",
    "# generate social ties\n",
    "np.random.seed(0)\n",
    "degree_list = np.random.negative_binomial(n=0.78773808, \n",
    "                                          p=0.02559534, \n",
    "                                          size=distances_np.shape[0])\n",
    "community.generate_social_ties(degrees=degree_list, \n",
    "                               distance_matrix=distances_np, \n",
    "                               distance_decay_alpha=-1.35, \n",
    "                               seed=1)\n",
    "community.split_social_ties(types=[\"strong tie\", \"weak tie\"], \n",
    "                            pmf=[0.41296, 0.58704], \n",
    "                            seed=2)"
   ]
  },
  {
   "cell_type": "code",
   "execution_count": null,
   "metadata": {},
   "outputs": [
    {
     "data": {
      "text/plain": [
       "{}"
      ]
     },
     "execution_count": 7,
     "metadata": {},
     "output_type": "execute_result"
    }
   ],
   "source": [
    "# show a node\n",
    "community.nodes[0]"
   ]
  },
  {
   "cell_type": "code",
   "execution_count": null,
   "metadata": {},
   "outputs": [
    {
     "data": {
      "text/plain": [
       "{'type': 'weak tie'}"
      ]
     },
     "execution_count": 8,
     "metadata": {},
     "output_type": "execute_result"
    }
   ],
   "source": [
    "# show the first 5 edges\n",
    "community.edges[0, 1]"
   ]
  },
  {
   "cell_type": "markdown",
   "metadata": {},
   "source": [
    "# P2P Resource-sharing Network Construction"
   ]
  },
  {
   "cell_type": "code",
   "execution_count": null,
   "metadata": {},
   "outputs": [
    {
     "data": {
      "text/plain": [
       "0    0.023715\n",
       "1    0.189723\n",
       "2    0.434783\n",
       "3    0.351779\n",
       "Name: transp, dtype: float64"
      ]
     },
     "execution_count": 9,
     "metadata": {},
     "output_type": "execute_result"
    }
   ],
   "source": [
    "sharing_preferences['transp']"
   ]
  },
  {
   "cell_type": "code",
   "execution_count": null,
   "metadata": {},
   "outputs": [],
   "source": [
    "\"\"\"Step 2: Community-based resource-sharing network construction\"\"\"\n",
    "# generate sharing preferences\n",
    "for rsc in resources:\n",
    "    community.generate_sharing_preference(recipient=[0, 1, 2, 3], # 0: nobody, 1: strong ties only, 2: strong and weak ties, 3: everybody\n",
    "                                          pmf=sharing_preferences[rsc],\n",
    "                                          name=rsc+'_share_preference', \n",
    "                                          seed=3)\n",
    "\n",
    "# generate resource inventory\n",
    "for rsc in resources:\n",
    "    community.generate_resource_inventory(support=np.arange(0, len(resource_distribution[rsc])), \n",
    "                                        pmf=resource_distribution[rsc], \n",
    "                                        name=rsc, \n",
    "                                        seed=4)"
   ]
  },
  {
   "cell_type": "code",
   "execution_count": null,
   "metadata": {},
   "outputs": [
    {
     "data": {
      "text/plain": [
       "{'water_share_preference': 2,\n",
       " 'food_share_preference': 2,\n",
       " 'meds_share_preference': 3,\n",
       " 'faid_share_preference': 3,\n",
       " 'warm_share_preference': 3,\n",
       " 'transp_share_preference': 3,\n",
       " 'comm_share_preference': 3,\n",
       " 'sani_share_preference': 3,\n",
       " 'power_share_preference': 2,\n",
       " 'shelter_share_preference': 2,\n",
       " 'water': 4,\n",
       " 'food': 6,\n",
       " 'meds': 7,\n",
       " 'faid': 7,\n",
       " 'warm': 7,\n",
       " 'transp': 7,\n",
       " 'comm': 6,\n",
       " 'sani': 4,\n",
       " 'power': 3,\n",
       " 'shelter': 7}"
      ]
     },
     "execution_count": 11,
     "metadata": {},
     "output_type": "execute_result"
    }
   ],
   "source": [
    "community.nodes[1]"
   ]
  },
  {
   "cell_type": "code",
   "execution_count": null,
   "metadata": {},
   "outputs": [
    {
     "data": {
      "text/plain": [
       "{'type': 'weak tie'}"
      ]
     },
     "execution_count": 12,
     "metadata": {},
     "output_type": "execute_result"
    }
   ],
   "source": [
    "community.edges[0, 1]"
   ]
  },
  {
   "cell_type": "markdown",
   "metadata": {},
   "source": [
    "# P2P Resource-sharing Model"
   ]
  },
  {
   "cell_type": "code",
   "execution_count": null,
   "metadata": {},
   "outputs": [],
   "source": [
    "# dataframes to store the results\n",
    "inventory_df = pd.DataFrame(columns=resources)\n",
    "resource_df = pd.DataFrame(columns=resources)\n",
    "\n",
    "for rsc in resources:\n",
    "    priority_matrix = community.get_share_priority_matrix(sharing_preference=rsc+'_share_preference', \n",
    "                                                        priority=[3, 2, 1])\n",
    "    resource_inventory = [community.nodes[n][rsc] for n in community.nodes]\n",
    "    model = src.ResourceSharingModel(wts_matrix=priority_matrix, \n",
    "                                    inventory=resource_inventory, \n",
    "                                    isolation_days=tau)\n",
    "    model.solve()\n",
    "    inventory_df[rsc] = model.inventory.flatten()\n",
    "    resource_df[rsc] = model.resource.flatten()\n",
    "\n",
    "# save the resource inventory vector in csv file\n",
    "inventory_df.to_csv('q_vec.csv', index=False)\n",
    "# save the final resource vector in csv file\n",
    "resource_df.to_csv('h_vec.csv', index=False)"
   ]
  },
  {
   "cell_type": "markdown",
   "metadata": {},
   "source": [
    "# Resilience Loss Analysis"
   ]
  },
  {
   "cell_type": "code",
   "execution_count": null,
   "metadata": {},
   "outputs": [],
   "source": []
  }
 ],
 "metadata": {
  "kernelspec": {
   "display_name": "base",
   "language": "python",
   "name": "python3"
  },
  "language_info": {
   "codemirror_mode": {
    "name": "ipython",
    "version": 3
   },
   "file_extension": ".py",
   "mimetype": "text/x-python",
   "name": "python",
   "nbconvert_exporter": "python",
   "pygments_lexer": "ipython3",
   "version": "3.9.13"
  }
 },
 "nbformat": 4,
 "nbformat_minor": 2
}
